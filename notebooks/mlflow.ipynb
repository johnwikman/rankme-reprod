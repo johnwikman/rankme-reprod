{
 "cells": [
  {
   "cell_type": "code",
   "execution_count": 5,
   "metadata": {},
   "outputs": [],
   "source": [
    "import mlflow\n",
    "\n",
    "# change wd to root with sys\n",
    "import sys\n",
    "\n",
    "#sys.path.append(\"..\")\n",
    "\n",
    "# change wd to root with os\n",
    "import os\n",
    "os.chdir(\"..\")\n",
    "\n",
    "# Assuming you know the experiment ID or name\n",
    "experiment_id = \"0\"\n",
    "# OR use the experiment name\n",
    "# experiment_id = mlflow.get_experiment_by_name(\"your_experiment_name\").experiment_id\n",
    "\n",
    "# Fetch runs\n",
    "runs = mlflow.search_runs(experiment_ids=[experiment_id])\n",
    "\n",
    "# Filter by name\n",
    "for _, run in runs.iterrows():\n",
    "    if run[\"tags.mlflow.runName\"] == \"blushing-bug-408\":\n",
    "        desired_run_id = run[\"run_id\"]\n",
    "        break"
   ]
  },
  {
   "cell_type": "code",
   "execution_count": 6,
   "metadata": {},
   "outputs": [
    {
     "name": "stderr",
     "output_type": "stream",
     "text": [
      "2023/11/27 15:23:24 WARNING mlflow.pyfunc: Detected one or more mismatches between the model's dependencies and the current Python environment:\n",
      " - cffi (current: 1.15.1, required: cffi==1.16.0)\n",
      " - numpy (current: 1.23.5, required: numpy==1.26.0)\n",
      " - packaging (current: 23.1, required: packaging==23.2)\n",
      " - pandas (current: 2.1.2, required: pandas==2.1.3)\n",
      " - pyyaml (current: 6.0, required: pyyaml==6.0.1)\n",
      " - requests (current: 2.28.2, required: requests==2.31.0)\n",
      " - torch (current: 2.0.0, required: torch==2.1.0)\n",
      " - torchvision (current: 0.15.1, required: torchvision==0.15.2a0)\n",
      " - tqdm (current: 4.65.0, required: tqdm==4.66.1)\n",
      "To fix the mismatches, call `mlflow.pyfunc.get_model_dependencies(model_uri)` to fetch the model's environment and install dependencies using the resulting environment file.\n",
      "2023/11/27 15:23:24 WARNING mlflow.pyfunc: The version of Python that the model was saved in, `Python 3.11.6`, differs from the version of Python that is currently running, `Python 3.10.10`, and may be incompatible\n"
     ]
    }
   ],
   "source": [
    "import mlflow\n",
    "\n",
    "logged_model = \"runs:/dede171a79e44cb7bacde6a2036131c3/pretraining_model\"\n",
    "\n",
    "# Load model as a PyFuncModel.\n",
    "loaded_model = mlflow.pyfunc.load_model(logged_model)\n",
    "\n",
    "# Predict on a Pandas DataFrame.\n",
    "import pandas as pd\n",
    "\n",
    "# loaded_model.predict(pd.DataFrame(data))"
   ]
  }
 ],
 "metadata": {
  "kernelspec": {
   "display_name": "pytorch_tutorials",
   "language": "python",
   "name": "python3"
  },
  "language_info": {
   "codemirror_mode": {
    "name": "ipython",
    "version": 3
   },
   "file_extension": ".py",
   "mimetype": "text/x-python",
   "name": "python",
   "nbconvert_exporter": "python",
   "pygments_lexer": "ipython3",
   "version": "3.10.10"
  }
 },
 "nbformat": 4,
 "nbformat_minor": 2
}
